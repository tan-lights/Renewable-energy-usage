{
 "cells": [
  {
   "cell_type": "markdown",
   "metadata": {},
   "source": [
    "# Assignment 2 - Pandas"
   ]
  },
  {
   "cell_type": "markdown",
   "metadata": {},
   "source": [
    "**Tanvir, Ahmed, 20075186**"
   ]
  },
  {
   "cell_type": "markdown",
   "metadata": {},
   "source": [
    "## The Story"
   ]
  },
  {
   "cell_type": "markdown",
   "metadata": {},
   "source": [
    "Use Markdown cells to write a brief summary of the data analysis you are planning to undertake:\n",
    "\n",
    "  - What is the goal of this work?\n",
    "    \n",
    "  - What kind of data is analyzed in this work? \n",
    "    \n",
    "  - What summary statistics are obtained in this work?\n",
    "\n",
    "  \n",
    "This part is worth 3 marks. I recommend writing this part once you have completed all the remaining parts of this assignment."
   ]
  },
  {
   "cell_type": "markdown",
   "metadata": {},
   "source": [
    "#### Brief introduction and objective of the analysis\n",
    "\n",
    "1. Constructed 2 dataframes using World Bank data.\n",
    "\n",
    "2. The first DataFrame: 'dataframe_1' describes the Economy of the selected countries.\n",
    "\n",
    "3. The second DataFrame: 'dataframe_2' describes the Energy consumption of the countries, access to electricity, how electricty is produced (fossil, renewable).\n",
    "\n",
    "4. The goal was to identify which factors has the most correlation with renewable energy usage or shifts towards it.\n",
    "\n",
    "Please note: that initially a few extra indicators were chosen to get a feel of the economy and the energy consumption but all of them weren't used in the analysis.\n",
    "\n",
    "The data analysed was numeric, structured with proper labels.\n",
    "\n",
    "**Summary**\n",
    "\n",
    "No correlation was found between strength or size of an economy and the dependency on renewable sources fro electricity generation.\n",
    "\n",
    "France and Canada are utilising green sources the most from my country list and Europeean countries have more inclination towards renewable energy. "
   ]
  },
  {
   "cell_type": "markdown",
   "metadata": {},
   "source": [
    "## Data Preparation"
   ]
  },
  {
   "cell_type": "markdown",
   "metadata": {},
   "source": [
    "### Countries"
   ]
  },
  {
   "cell_type": "code",
   "execution_count": 1,
   "metadata": {},
   "outputs": [],
   "source": [
    "# Codes for the chosen countries\n",
    "\n",
    "country_codes = [\"CAN\", \"CHN\", \"DEU\", \"EGY\", \"FRA\", \"GBR\", \"IND\", \"JPN\", \"NGA\", \"USA\", \"ZAF\"]"
   ]
  },
  {
   "cell_type": "code",
   "execution_count": 2,
   "metadata": {
    "scrolled": true
   },
   "outputs": [
    {
     "data": {
      "text/plain": [
       "{'CAN': 'Canada',\n",
       " 'CHN': 'China',\n",
       " 'DEU': 'Egypt',\n",
       " 'EGY': 'France',\n",
       " 'FRA': 'Germany',\n",
       " 'GBR': 'India',\n",
       " 'IND': 'Japan',\n",
       " 'JPN': 'Nigeria',\n",
       " 'NGA': 'South Africa',\n",
       " 'USA': 'United Kingdom',\n",
       " 'ZAF': 'United States'}"
      ]
     },
     "execution_count": 2,
     "metadata": {},
     "output_type": "execute_result"
    }
   ],
   "source": [
    "# Creating a dictionary in the country code:country name format:\n",
    "\n",
    "# Step 1: Creating a list of country names in the same order as the country_codes list\n",
    "\n",
    "country_proper_names = ['Canada', 'China', 'Egypt', 'France', 'Germany', 'India', 'Japan', 'Nigeria', \n",
    "                        'South Africa', 'United Kingdom', 'United States']\n",
    "\n",
    "country_names = {}\n",
    "for i in range(0,len(country_codes)):\n",
    "    country_names[country_codes[i]] = country_proper_names[i]\n",
    "\n",
    "# The final dictionary\n",
    "country_names"
   ]
  },
  {
   "cell_type": "code",
   "execution_count": 3,
   "metadata": {
    "scrolled": true
   },
   "outputs": [
    {
     "data": {
      "text/plain": [
       "{'EGY': 'Africa',\n",
       " 'NGA': 'Africa',\n",
       " 'ZAF': 'Africa',\n",
       " 'CHN': 'Asia',\n",
       " 'IND': 'Asia',\n",
       " 'JPN': 'Asia',\n",
       " 'FRA': 'Europe',\n",
       " 'DEU': 'Europe',\n",
       " 'GBR': 'Europe',\n",
       " 'CAN': 'North America',\n",
       " 'USA': 'North America'}"
      ]
     },
     "execution_count": 3,
     "metadata": {},
     "output_type": "execute_result"
    }
   ],
   "source": [
    "# Grouping the countries in their respective continents in a dictionary\n",
    "\n",
    "country_groups = {'EGY':'Africa', 'NGA':'Africa', 'ZAF':'Africa', 'CHN':'Asia', 'IND':'Asia', 'JPN':'Asia', \n",
    "                  'FRA':'Europe', 'DEU':'Europe', 'GBR':'Europe', 'CAN':'North America', 'USA': 'North America'}\n",
    "\n",
    "country_groups"
   ]
  },
  {
   "cell_type": "markdown",
   "metadata": {},
   "source": [
    "### Indicators"
   ]
  },
  {
   "cell_type": "code",
   "execution_count": null,
   "metadata": {},
   "outputs": [],
   "source": [
    "import numpy as np\n",
    "import pandas as pd\n",
    "import wbgapi as wb\n",
    "import matplotlib.pyplot as plt\n",
    "%matplotlib inline"
   ]
  },
  {
   "cell_type": "code",
   "execution_count": null,
   "metadata": {},
   "outputs": [],
   "source": [
    "# Creating a list of Indicator IDs for my first DataFrame\n",
    "\n",
    "indicator_ids_1 = ['SP.POP.TOTL', 'SL.TLF.TOTL.IN', 'NY.GDP.MKTP.CD', 'NY.GDP.MKTP.KD.ZG', 'GC.DOD.TOTL.GD.ZS', \n",
    "                   'FI.RES.TOTL.CD', 'BX.GSR.GNFS.CD', 'BM.GSR.GNFS.CD']\n",
    "\n",
    "# Indicator IDs (indicator_ids_2) for my second DataFrame is done in a similar method"
   ]
  },
  {
   "cell_type": "markdown",
   "metadata": {},
   "source": [
    "### DataFrames"
   ]
  },
  {
   "cell_type": "code",
   "execution_count": null,
   "metadata": {
    "scrolled": true
   },
   "outputs": [],
   "source": [
    "# Creating a Pandas DataFrame from World Bank data\n",
    "\n",
    "my_dataframe_1 = wb.data.DataFrame(indicator_ids_1, country_codes, time=range(2011, 2016)) \n",
    "\n",
    "#replacing most recent 5 years mrv=5 with time for chosen years\n",
    "\n",
    "df = my_dataframe_1.unstack().stack(level=0) # using unstack and stack method to get the dataframe to my desired shape\n",
    "\n",
    "# unstack() takes the indicators from being subcategories in the rows under country names to subcategories of year columns\n",
    "\n",
    "# applying stack() again on level = 0 takes the year columns to a sublevel of rows\n",
    "\n",
    "# How it looks\n",
    "df.head(10)"
   ]
  },
  {
   "cell_type": "code",
   "execution_count": null,
   "metadata": {},
   "outputs": [],
   "source": [
    "# Multiindexing the rows\n",
    "\n",
    "dataframe_1 = df.iloc[:, ::-1]\n",
    "\n",
    "index = pd.MultiIndex.from_product([country_codes, [2011, 2012, 2013, 2014, 2015]],\n",
    "                                   names=['Country', 'Year'])\n",
    "\n",
    "dataframe_1.index = index"
   ]
  },
  {
   "cell_type": "code",
   "execution_count": null,
   "metadata": {},
   "outputs": [],
   "source": [
    "# Multiindexing the columns\n",
    "dataframe_1.columns = pd.MultiIndex.from_tuples([('Population', 'Total'), ('Population', 'Total labor force'), \n",
    "                                                 ('GDP','Growth (annual %)'), ('GDP', 'Gross (USD)'),\n",
    "                                                 ('Economic strength', 'Central government debt (% of GDP)'), \n",
    "                                                 ('Economic strength', 'Total reserves (USD)'), \n",
    "                                                 ('Commerce', 'Exports (USD)'), ('Commerce', 'Imports (USD)')])"
   ]
  },
  {
   "cell_type": "code",
   "execution_count": null,
   "metadata": {},
   "outputs": [],
   "source": [
    "# Re-arranging the columns using a variable called 't'\n",
    "t = list(dataframe_1.columns)     # creates a list of column names \n",
    "\n",
    "# I want to swap positions of column 3 and 4 \n",
    "t[2], t[3] = t[3], t[2]\n",
    "\n",
    "dataframe_1 = dataframe_1[t]\n",
    "\n",
    "\"\"\"\n",
    "This can also be manually done as below.\n",
    "\n",
    "dataframe_1 = dataframe_1[[('Population', 'Total'), ('Population', 'Total labor force'),\n",
    "                           ('GDP', 'Gross (USD)'), ('GDP','Growth (annual %)'), \n",
    "                           ('Economic strength', 'Central government debt (% of GDP)'), \n",
    "                           ('Economic strength', 'Total reserves (USD)'), \n",
    "                           ('Commerce', 'Exports (USD)'), ('Commerce', 'Imports (USD)')]]\n",
    "\"\"\""
   ]
  },
  {
   "cell_type": "code",
   "execution_count": null,
   "metadata": {},
   "outputs": [],
   "source": [
    "# My first DataFrame\n",
    "\n",
    "dataframe_1.head(10)"
   ]
  },
  {
   "cell_type": "code",
   "execution_count": null,
   "metadata": {},
   "outputs": [],
   "source": [
    "# The dataframe has a column with NaN values (there are a few inputs in this column though, let's see if it'll be useful). \n",
    "\n",
    "# Please note: \n",
    "# some of the columns will be excluded in this analysis, they're just presented for informational purposes \n",
    "# and possible exploratory data analysis\n",
    "\n",
    "# I'll keep this dataframe as is for now and drop the columns not necessary as we as the NaN column when needed."
   ]
  },
  {
   "cell_type": "code",
   "execution_count": null,
   "metadata": {},
   "outputs": [],
   "source": [
    "\n",
    "# Creating the second DataFrame following the same steps as above\n",
    "\n",
    "indicator_ids_2 = ['SP.POP.TOTL', 'EG.ELC.ACCS.ZS', 'EG.USE.ELEC.KH.PC', 'EG.ELC.LOSS.ZS', \n",
    "                   'EG.ELC.FOSL.ZS', 'EG.ELC.RNWX.ZS', 'EG.ELC.HYRO.ZS', 'EG.ELC.NUCL.ZS']\n",
    "\n",
    "my_dataframe_2 = wb.data.DataFrame(indicator_ids_2, country_codes, time=range(2011, 2016))\n",
    "\n",
    "df2 = my_dataframe_2.unstack().stack(level=0) # using unstack and stack method to get the dataframe to my desired shape\n",
    "\n",
    "dataframe_2 = df2.iloc[:, ::-1]\n",
    "\n",
    "index_2 = pd.MultiIndex.from_product([country_codes, [2011, 2012, 2013, 2014, 2015]],\n",
    "                                   names=['Country', 'Year'])\n",
    "\n",
    "dataframe_2.index = index_2\n",
    "\n",
    "# How the dataframe looks like\n",
    "dataframe_2.head(10)"
   ]
  },
  {
   "cell_type": "code",
   "execution_count": null,
   "metadata": {},
   "outputs": [],
   "source": [
    "# Multiindexing the columns again\n",
    "\n",
    "dataframe_2.columns = pd.MultiIndex.from_tuples([('Population', 'Total'), \n",
    "                                                 ('Electricity T&D', 'Electricity consumption (kWh/capita)'), \n",
    "                                                 ('Electricity production source (% of total)','Solar & Wind'), \n",
    "                                                 ('Electricity production source (% of total)','Nuclear'),\n",
    "                                                 ('Electricity T&D', 'Trans & Dist loss (% of output)'), \n",
    "                                                 ('Electricity production source (% of total)','Hydro'), \n",
    "                                                 ('Electricity production source (% of total)','Fossil fuels'), \n",
    "                                                 ('Population', 'Access to electricity (% of population)')])\n",
    "\n",
    "dataframe_2 = dataframe_2[[('Population', 'Total'),\n",
    "                           ('Population', 'Access to electricity (% of population)'),\n",
    "                            ('Electricity T&D', 'Electricity consumption (kWh/capita)'),\n",
    "                            ('Electricity T&D', 'Trans & Dist loss (% of output)'),\n",
    "                            ('Electricity production source (% of total)','Solar & Wind'), \n",
    "                            ('Electricity production source (% of total)','Nuclear'),\n",
    "                            ('Electricity production source (% of total)','Hydro'),\n",
    "                            ('Electricity production source (% of total)','Fossil fuels')]]\n",
    "\n",
    "dataframe_2.head(10)"
   ]
  },
  {
   "cell_type": "markdown",
   "metadata": {},
   "source": [
    "## Data Analysis "
   ]
  },
  {
   "cell_type": "markdown",
   "metadata": {},
   "source": [
    "Use Pandas ``groupby()`` and ``pivot_table()`` methods to construct 8 different summary statistics. They must include the following Pandas techniques:\n",
    "\n",
    "- ``groupby()`` combined with ``aggregate()``, ``filter()``, ``transform()``, and ``apply()`` methods.\n",
    "\n",
    "\n",
    "- ``groupby()`` using an external key, the dictionary ``country_groups`` you have constructed above.\n",
    "\n",
    "\n",
    "- at least one summary statistics must use the ``pivot_table()`` method. \n",
    "\n",
    "\n",
    "- at least two summary statistics must use data from both DataFrames.\n",
    "\n",
    "The necessary Pandas techniques are explained in Notebooks 2.8 and 2.9.\n",
    "\n",
    "**Important:** Make sure your summary statistics make sense and tell a story. This story must be summarized in the first part of this assignment, \"The Story\".\n",
    "\n",
    "\n",
    "This part is worth 10 marks: 1 mark for Python code for each summary statistic and 2 marks for comments explaining the Python code and the summary statistics."
   ]
  },
  {
   "cell_type": "code",
   "execution_count": null,
   "metadata": {},
   "outputs": [],
   "source": [
    "# Application of groupby\n",
    "\n",
    "gdp_max = dataframe_1.groupby(level='Country')[[('GDP', 'Gross (USD)')]].mean()\n",
    "gdp_max.sort_values(by=[('GDP', 'Gross (USD)')], ascending=False)"
   ]
  },
  {
   "cell_type": "markdown",
   "metadata": {},
   "source": [
    "***USA, China and Japan had higher avearge GDP than the rest of the countries between 2011 and 2015***"
   ]
  },
  {
   "cell_type": "code",
   "execution_count": null,
   "metadata": {
    "scrolled": true
   },
   "outputs": [],
   "source": [
    "# GDP growth of the countries using groupby.filter()\n",
    "\n",
    "# Filter by average GDP growth more than 5%\n",
    "\n",
    "#dataframe_1.groupby('Country').filter(lambda x: x[('GDP','Growth (annual %)')].mean() > 3)\n",
    "\n",
    "growth = dataframe_1.groupby('Country').filter(lambda x: x[('GDP','Growth (annual %)')].mean() > 5)\n",
    "\n",
    "growth.groupby('Country')[[('GDP','Growth (annual %)')]].mean().sort_values([('GDP','Growth (annual %)')], ascending=False)"
   ]
  },
  {
   "cell_type": "markdown",
   "metadata": {},
   "source": [
    "**China's GDP was the fastest growing between 2011-2015**"
   ]
  },
  {
   "cell_type": "code",
   "execution_count": null,
   "metadata": {
    "scrolled": true
   },
   "outputs": [],
   "source": [
    "# The percentage of the labor force in the countries apply() method\n",
    "\n",
    "df_3 = dataframe_1[[('Population', 'Total')]].droplevel(level=0, axis=1)\n",
    "df_3 = df_3.reset_index()\n",
    "\n",
    "df_4 = dataframe_1[[('Population', 'Total labor force')]].droplevel(level=0, axis=1)\n",
    "df_4 = df_4.reset_index()\n",
    "\n",
    "def ratio(x):\n",
    "    x['Total labor force'] /= df_3['Total']/100\n",
    "    return x\n",
    "\n",
    "labor_force_percentage = df_4.groupby('Country').apply(ratio)\n",
    "\n",
    "labor_force_percentage.columns = ['Country', 'Year', 'labor force percetage']\n",
    "\n",
    "labor_force_percentage.groupby('Country')['labor force percetage'].mean()\n"
   ]
  },
  {
   "cell_type": "markdown",
   "metadata": {},
   "source": [
    "**China, Canada, Germany, United Kingdom, Japan and the US have more than 50 percent of their population into the workforce**"
   ]
  },
  {
   "cell_type": "code",
   "execution_count": null,
   "metadata": {},
   "outputs": [],
   "source": [
    "# Application of groupby.aggregate method\n",
    "\n",
    "export_by_countries = dataframe_1.groupby(level='Country')[[('Commerce', 'Exports (USD)')]].aggregate(['min', \n",
    "                                                                                                       np.mean, \n",
    "                                                                                                       max])\n",
    "export_by_countries.sort_values(by=[('Commerce', 'Exports (USD)', 'max')], ascending=False)"
   ]
  },
  {
   "cell_type": "code",
   "execution_count": null,
   "metadata": {},
   "outputs": [],
   "source": [
    "import_by_countries = dataframe_1.groupby(level='Country')[[('Commerce', 'Imports (USD)')]].aggregate(['min', \n",
    "                                                                                                       np.mean, \n",
    "                                                                                                       max])\n",
    "import_by_countries.sort_values(by=[('Commerce', 'Imports (USD)', 'max')], ascending=False)"
   ]
  },
  {
   "cell_type": "code",
   "execution_count": null,
   "metadata": {},
   "outputs": [],
   "source": [
    "profit = export_by_countries[('Commerce', 'Exports (USD)', 'mean')] - import_by_countries[('Commerce', 'Imports (USD)', 'mean')]\n",
    "profit.sort_values(ascending=False)"
   ]
  },
  {
   "cell_type": "markdown",
   "metadata": {},
   "source": [
    "**China, USA and Germany are the top 3 exporters and importers of good and services among the countries.**\n",
    "\n",
    "**China, Germany and Nigeria are making profits.**"
   ]
  },
  {
   "cell_type": "code",
   "execution_count": null,
   "metadata": {
    "scrolled": false
   },
   "outputs": [],
   "source": [
    "# Total reserves by continents using dataframe_1\n",
    "\n",
    "# To groupby() using the dictionary country_groups (an external key) I need to reset the index of the multi-indexed dataframe.\n",
    "\n",
    "reset_df1 = dataframe_1.reset_index()\n",
    "\n",
    "#print(reset_df)\n",
    "\n",
    "# Now setting the index to the newly created column 'Country' assigning the value to a new dataframe\n",
    "country_idx_df_1 = reset_df1.set_index(['Country'])\n",
    "\n",
    "#reset_df_groupby = reset_df.groupby(country_groups)[[('Economic strength', 'Total reserves (USD)')]].sum()\n",
    "#reset_df_groupby\n",
    "\n",
    "#calling groupby on the new dataframe q to use country_groups\n",
    "\n",
    "reserves_by_continent = country_idx_df_1.groupby(country_groups)[[('Economic strength', 'Total reserves (USD)')]].sum()\n",
    "\n",
    "reserves_by_continent"
   ]
  },
  {
   "cell_type": "code",
   "execution_count": null,
   "metadata": {},
   "outputs": [],
   "source": [
    "reserves_list = dataframe_1.groupby('Country')[[('Economic strength', 'Total reserves (USD)')]].max()\n",
    "\n",
    "reserves_list.sort_values(by=[('Economic strength', 'Total reserves (USD)')], ascending=False)"
   ]
  },
  {
   "cell_type": "markdown",
   "metadata": {},
   "source": [
    "**The selected Asian countries have the highest reserves than the rest due to China and Japan having the most amount of reserves at the top 2 position on the table.**"
   ]
  },
  {
   "cell_type": "code",
   "execution_count": null,
   "metadata": {},
   "outputs": [],
   "source": [
    "# Which continents were utilising the most solar and wind [dataframe_2]?\n",
    "\n",
    "country_idx_df_2 = dataframe_2.reset_index()\n",
    "\n",
    "country_idx_df_2 = country_idx_df_2.set_index(['Country'])\n",
    "\n",
    "# Groupby below using country_groups \n",
    "\n",
    "solar_wind = country_idx_df_2.groupby(country_groups)[[('Electricity production source (% of total)','Solar & Wind')]].mean()\n",
    "\n",
    "solar_wind"
   ]
  },
  {
   "cell_type": "markdown",
   "metadata": {},
   "source": [
    "**Europe has larger proportion of its electricty production by Solar and Wind energies.**"
   ]
  },
  {
   "cell_type": "code",
   "execution_count": null,
   "metadata": {
    "scrolled": true
   },
   "outputs": [],
   "source": [
    "# Which countries used more renewable sources to generate electricity than fossil fuels?\n",
    "\n",
    "renewable = dataframe_2[[('Electricity production source (% of total)','Solar & Wind'), \n",
    "                                 ('Electricity production source (% of total)','Nuclear'), \n",
    "                                 ('Electricity production source (% of total)','Hydro')]]\n",
    "\n",
    "\n",
    "renewable[('Electricity production source (% of total)','Fossil')] = dataframe_2[[('Electricity production source (% of total)', \n",
    "                                                                                   'Fossil fuels')]]\n",
    "#removing multi-index from the columns\n",
    "\n",
    "renewable = renewable.droplevel(level=0, axis=1)\n",
    "\n",
    "\n",
    "renewable = renewable.reset_index()\n",
    "\n",
    "renewable['Sum of renewable (% of total electricity prod.)'] = renewable[['Solar & Wind', 'Nuclear', 'Hydro']].sum(axis=1)\n"
   ]
  },
  {
   "cell_type": "code",
   "execution_count": null,
   "metadata": {
    "scrolled": true
   },
   "outputs": [],
   "source": [
    "renewable.set_index('Country')\n",
    "\n",
    "renewable.groupby('Country')[['Sum of renewable (% of total electricity prod.)']].mean().sort_values(by=\n",
    "                              ['Sum of renewable (% of total electricity prod.)'], ascending=False)\n"
   ]
  },
  {
   "cell_type": "markdown",
   "metadata": {},
   "source": [
    "**France and Canada generate most of their electricity from renewable sources**"
   ]
  },
  {
   "cell_type": "code",
   "execution_count": null,
   "metadata": {},
   "outputs": [],
   "source": [
    "# Using pivot_table() method\n",
    "\n",
    "fossil_fuel_use = dataframe_2.droplevel(level=0 ,axis=1).pivot_table('Fossil fuels', index='Country', aggfunc='mean')\n",
    "\n",
    "fossil_fuel_use.sort_values(by='Fossil fuels', ascending=False)"
   ]
  },
  {
   "cell_type": "markdown",
   "metadata": {},
   "source": [
    "**Most countries rely very heavily on fossil fuels for electricity production with the only exception of Canada and France as seen in the previous summary.**"
   ]
  },
  {
   "cell_type": "code",
   "execution_count": null,
   "metadata": {
    "scrolled": false
   },
   "outputs": [],
   "source": [
    "# Population vs Energy Consumption\n",
    "\n",
    "df_comparison_1 = dataframe_1.loc[:, ('Population', 'Total')]\n",
    "comparison_1 = pd.DataFrame(df_comparison_1).join(pd.DataFrame(dataframe_2.loc[:, ('Electricity T&D', \n",
    "                                                                    'Electricity consumption (kWh/capita)')]))\n",
    "\n",
    "comp = comparison_1.groupby('Country')[[('Population', 'Total'), \n",
    "                                        ('Electricity T&D', 'Electricity consumption (kWh/capita)')]].max()\n",
    "\n",
    "comp = comp.sort_values(('Electricity T&D', 'Electricity consumption (kWh/capita)'), ascending=False)\n",
    "\n",
    "comp"
   ]
  },
  {
   "cell_type": "markdown",
   "metadata": {},
   "source": [
    "**Per capita electricity usage is very high in Canada and the US. The table shows that population doesn't have any impact on the energy consumption.** "
   ]
  },
  {
   "cell_type": "code",
   "execution_count": null,
   "metadata": {
    "scrolled": true
   },
   "outputs": [],
   "source": [
    "# GDP vs Sustainable energy: using 2 dataframes\n",
    "\n",
    "df_comparison_2 = dataframe_1.loc[:, ('GDP', 'Gross (USD)')]\n",
    "\n",
    "comparison_2 = pd.DataFrame(df_comparison_1).join(pd.DataFrame(dataframe_2.loc[:, \n",
    "                                                            [('Electricity production source (% of total)','Solar & Wind'), \n",
    "                                                            ('Electricity production source (% of total)','Nuclear'), \n",
    "                                                            ('Electricity production source (% of total)','Hydro')]]))\n",
    "\n",
    "comparison_2"
   ]
  },
  {
   "cell_type": "code",
   "execution_count": null,
   "metadata": {
    "scrolled": true
   },
   "outputs": [],
   "source": [
    "#Using transform() method\n",
    "\n",
    "#normalised the column by dvinding the max value for each category\n",
    "\n",
    "comparison_2.groupby('Country').transform(lambda x: x/x.max())\n"
   ]
  },
  {
   "cell_type": "markdown",
   "metadata": {},
   "source": [
    "**The normalised dataframe above shows that use of Solar and Wind energy had been gradually increasing in all countries except Egypt.**\n",
    "**No data on Nigeria is not available for this category.**"
   ]
  },
  {
   "cell_type": "code",
   "execution_count": null,
   "metadata": {},
   "outputs": [],
   "source": [
    "comparison_2.groupby('Country')[[('Electricity production source (% of total)', 'Solar & Wind')]].mean().round(3)"
   ]
  },
  {
   "cell_type": "markdown",
   "metadata": {},
   "source": [
    "Germany is leading in harnessing solar and wind energy followed by the United Kingdom."
   ]
  },
  {
   "cell_type": "markdown",
   "metadata": {},
   "source": [
    "---"
   ]
  }
 ],
 "metadata": {
  "kernelspec": {
   "display_name": "Python 3",
   "language": "python",
   "name": "python3"
  },
  "language_info": {
   "codemirror_mode": {
    "name": "ipython",
    "version": 3
   },
   "file_extension": ".py",
   "mimetype": "text/x-python",
   "name": "python",
   "nbconvert_exporter": "python",
   "pygments_lexer": "ipython3",
   "version": "3.8.5"
  }
 },
 "nbformat": 4,
 "nbformat_minor": 5
}
